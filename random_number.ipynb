{
 "cells": [
  {
   "cell_type": "code",
   "execution_count": 1,
   "id": "dcadcb5f",
   "metadata": {},
   "outputs": [],
   "source": [
    "# Import the random module.\n",
    "import random"
   ]
  },
  {
   "cell_type": "code",
   "execution_count": 2,
   "id": "d652c2e3",
   "metadata": {},
   "outputs": [
    {
     "data": {
      "text/plain": [
       "-8"
      ]
     },
     "execution_count": 2,
     "metadata": {},
     "output_type": "execute_result"
    }
   ],
   "source": [
    "random.randint(-90, 90)"
   ]
  },
  {
   "cell_type": "code",
   "execution_count": 3,
   "id": "aa9386f3",
   "metadata": {},
   "outputs": [
    {
     "data": {
      "text/plain": [
       "0.3854055478655557"
      ]
     },
     "execution_count": 3,
     "metadata": {},
     "output_type": "execute_result"
    }
   ],
   "source": [
    "random.random()"
   ]
  },
  {
   "cell_type": "code",
   "execution_count": 4,
   "id": "6b630a6f",
   "metadata": {},
   "outputs": [
    {
     "data": {
      "text/plain": [
       "24.584769751677378"
      ]
     },
     "execution_count": 4,
     "metadata": {},
     "output_type": "execute_result"
    }
   ],
   "source": [
    "random_number=random.randint(-90,89)+random.random()\n",
    "random_number\n",
    "        "
   ]
  },
  {
   "cell_type": "code",
   "execution_count": 5,
   "id": "1733c64a",
   "metadata": {},
   "outputs": [],
   "source": [
    "x = 1\n",
    "latitudes = []\n",
    "while x < 11:\n",
    "    random_lat = random.randint(-90, 89) + random.random()\n",
    "    latitudes.append(random_lat)\n",
    "    x += 1"
   ]
  },
  {
   "cell_type": "code",
   "execution_count": 6,
   "id": "8cc92025",
   "metadata": {},
   "outputs": [
    {
     "data": {
      "text/plain": [
       "[76.03170245245751,\n",
       " 24.72978546600866,\n",
       " -4.805166386548465,\n",
       " -33.69491924139068,\n",
       " 55.869361747665394,\n",
       " -54.27502309884253,\n",
       " -64.0608576255738,\n",
       " 18.108188658336164,\n",
       " 12.799782718681575,\n",
       " -9.904859855437696]"
      ]
     },
     "execution_count": 6,
     "metadata": {},
     "output_type": "execute_result"
    }
   ],
   "source": [
    "latitudes"
   ]
  },
  {
   "cell_type": "code",
   "execution_count": 7,
   "id": "392185a2",
   "metadata": {},
   "outputs": [
    {
     "data": {
      "text/plain": [
       "-12"
      ]
     },
     "execution_count": 7,
     "metadata": {},
     "output_type": "execute_result"
    }
   ],
   "source": [
    "random.randrange(-90,90,step=1)"
   ]
  },
  {
   "cell_type": "code",
   "execution_count": 8,
   "id": "d634f8d5",
   "metadata": {},
   "outputs": [
    {
     "data": {
      "text/plain": [
       "-72"
      ]
     },
     "execution_count": 8,
     "metadata": {},
     "output_type": "execute_result"
    }
   ],
   "source": [
    "random.randrange(-90,90,step=3)"
   ]
  },
  {
   "cell_type": "code",
   "execution_count": 9,
   "id": "50c07eec",
   "metadata": {},
   "outputs": [
    {
     "data": {
      "text/plain": [
       "1.5677484898567116"
      ]
     },
     "execution_count": 9,
     "metadata": {},
     "output_type": "execute_result"
    }
   ],
   "source": [
    "random.uniform(-90,90)"
   ]
  },
  {
   "cell_type": "code",
   "execution_count": 10,
   "id": "be24d3cd",
   "metadata": {},
   "outputs": [],
   "source": [
    "# Import the NumPy module.\n",
    "import numpy as np"
   ]
  },
  {
   "cell_type": "code",
   "execution_count": 11,
   "id": "da7bec03",
   "metadata": {},
   "outputs": [
    {
     "data": {
      "text/plain": [
       "58.21719195569128"
      ]
     },
     "execution_count": 11,
     "metadata": {},
     "output_type": "execute_result"
    }
   ],
   "source": [
    "np.random.uniform(-90.000, 90.000)"
   ]
  },
  {
   "cell_type": "code",
   "execution_count": 12,
   "id": "0098294d",
   "metadata": {},
   "outputs": [
    {
     "data": {
      "text/plain": [
       "array([ 30.32200766, -40.56909662,  81.12002386, -52.95399194,\n",
       "        29.89976965, -82.07231733,  89.93552553,  -7.46211089,\n",
       "       -64.80127093, -41.69482041,  69.23503898,  74.04411741,\n",
       "       -12.95184121,  70.74384103, -27.07270141, -26.58352749,\n",
       "       -42.7716918 ,  -6.09834074, -78.2844709 ,  83.23158855,\n",
       "        74.02164557,  24.84917946, -83.26212173,   4.38979226,\n",
       "        82.99407614,  16.03870331,  49.77389122, -75.29230065,\n",
       "        -8.92332875, -85.84154226,  70.89184863,  47.2150269 ,\n",
       "        89.3461898 ,   3.92756288,  61.46327635,  47.34551226,\n",
       "         6.35481956, -58.82724104, -76.17376074, -39.44868415,\n",
       "        63.11504475,  80.60968881,  44.55930737, -17.05062542,\n",
       "        66.60810965,  69.89266366,   4.47857079, -16.0339357 ,\n",
       "         9.31655496, -86.60932587])"
      ]
     },
     "execution_count": 12,
     "metadata": {},
     "output_type": "execute_result"
    }
   ],
   "source": [
    "np.random.uniform(-90.000,90.000, size = 50)"
   ]
  },
  {
   "cell_type": "code",
   "execution_count": 13,
   "id": "cd08f3f1",
   "metadata": {},
   "outputs": [],
   "source": [
    "# Import timeit.\n",
    "import timeit"
   ]
  },
  {
   "cell_type": "code",
   "execution_count": 14,
   "id": "569acaf1",
   "metadata": {},
   "outputs": [
    {
     "name": "stdout",
     "output_type": "stream",
     "text": [
      "24.2 µs ± 418 ns per loop (mean ± std. dev. of 7 runs, 10000 loops each)\n"
     ]
    }
   ],
   "source": [
    "%timeit np.random.uniform(-90.000, 90.000, size=1500)"
   ]
  },
  {
   "cell_type": "code",
   "execution_count": 15,
   "id": "b407927d",
   "metadata": {},
   "outputs": [
    {
     "name": "stdout",
     "output_type": "stream",
     "text": [
      "3.81 ms ± 129 µs per loop (mean ± std. dev. of 7 runs, 100 loops each)\n"
     ]
    }
   ],
   "source": [
    "def latitudes(size):\n",
    "    latitudes = []\n",
    "    x = 0\n",
    "    while x < (size):\n",
    "        random_lat = random.randint(-90, 90) + random.random()\n",
    "        latitudes.append(random_lat)\n",
    "        x += 1\n",
    "    return latitudes\n",
    "# Call the function with 1500.\n",
    "%timeit latitudes(1500)"
   ]
  },
  {
   "cell_type": "code",
   "execution_count": null,
   "id": "a3b733c8",
   "metadata": {},
   "outputs": [],
   "source": []
  },
  {
   "cell_type": "code",
   "execution_count": null,
   "id": "b659b31e",
   "metadata": {},
   "outputs": [],
   "source": []
  }
 ],
 "metadata": {
  "kernelspec": {
   "display_name": "PythonData",
   "language": "python",
   "name": "pythondata"
  },
  "language_info": {
   "codemirror_mode": {
    "name": "ipython",
    "version": 3
   },
   "file_extension": ".py",
   "mimetype": "text/x-python",
   "name": "python",
   "nbconvert_exporter": "python",
   "pygments_lexer": "ipython3",
   "version": "3.7.11"
  }
 },
 "nbformat": 4,
 "nbformat_minor": 5
}
